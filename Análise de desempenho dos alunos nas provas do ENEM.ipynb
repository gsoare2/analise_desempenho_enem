{
 "cells": [
  {
   "cell_type": "markdown",
   "metadata": {},
   "source": [
    "# Análise de desempenho dos alunos que fizeram ENEM\n",
    "\n",
    "* Dentre as 100 maiores médias na parte objetiva do Enem 2018 será feito uma tabela e um gráfico comparando com a renda familiar mensal. (MAGNO)\n",
    "\n",
    "* Será feito uma checagem entre as 100 maiores médias do Enem 2018 separando quem tem acesso a Internet e quem não tem acesso a fim de mensurar qual influência este fato tem na nota final. (GUSTA)\n",
    "\n",
    "* Analisar a evolução das médias dos anos. (GUSTA)"
   ]
  },
  {
   "cell_type": "code",
   "execution_count": null,
   "metadata": {},
   "outputs": [],
   "source": [
    "import pandas as pd\n",
    "import numpy as np\n",
    "import functools\n",
    "import operator\n",
    "%matplotlib inline\n",
    "low_memory=False"
   ]
  },
  {
   "cell_type": "code",
   "execution_count": 7,
   "metadata": {},
   "outputs": [],
   "source": [
    "filename = 'MICRODADOS_ENEM_2018.csv'\n",
    "limit = 12"
   ]
  },
  {
   "cell_type": "code",
   "execution_count": 91,
   "metadata": {},
   "outputs": [],
   "source": [
    "dt = pd.read_csv(filename, delimiter=';', encoding='iso-8859-1', usecols=['NU_NOTA_MT','NU_NOTA_LC','NU_NOTA_CH','NU_NOTA_CN'])\n",
    "dt = dt.dropna()"
   ]
  },
  {
   "cell_type": "code",
   "execution_count": 5,
   "metadata": {},
   "outputs": [],
   "source": [
    "dt.rename(columns={'NU_NOTA_MT': 'MATEMÁTICA',\n",
    "                   'NU_NOTA_CN': 'CIÊNCIAS NATURAIS',\n",
    "                   'NU_NOTA_CH': 'CIÊNCIAS HUMANAS',\n",
    "                   'NU_NOTA_LC': 'LINGUAGEM e CÓDIGO'}, inplace=True)"
   ]
  },
  {
   "cell_type": "code",
   "execution_count": 13,
   "metadata": {},
   "outputs": [
    {
     "name": "stdout",
     "output_type": "stream",
     "text": [
      "1\n",
      "5\n",
      "7\n",
      "8\n",
      "9\n",
      "12\n"
     ]
    },
    {
     "data": {
      "text/html": [
       "<div>\n",
       "<style scoped>\n",
       "    .dataframe tbody tr th:only-of-type {\n",
       "        vertical-align: middle;\n",
       "    }\n",
       "\n",
       "    .dataframe tbody tr th {\n",
       "        vertical-align: top;\n",
       "    }\n",
       "\n",
       "    .dataframe thead th {\n",
       "        text-align: right;\n",
       "    }\n",
       "</style>\n",
       "<table border=\"1\" class=\"dataframe\">\n",
       "  <thead>\n",
       "    <tr style=\"text-align: right;\">\n",
       "      <th></th>\n",
       "      <th>MATEMÁTICA</th>\n",
       "      <th>CIÊNCIAS NATURAIS</th>\n",
       "      <th>CIÊNCIAS HUMANAS</th>\n",
       "      <th>LINGUAGEM e CÓDIGO</th>\n",
       "      <th>MÉDIA</th>\n",
       "    </tr>\n",
       "  </thead>\n",
       "  <tbody>\n",
       "    <tr>\n",
       "      <th>0</th>\n",
       "      <td>521.0</td>\n",
       "      <td>568.7</td>\n",
       "      <td>513.1</td>\n",
       "      <td>480.3</td>\n",
       "      <td>520.775</td>\n",
       "    </tr>\n",
       "    <tr>\n",
       "      <th>1</th>\n",
       "      <td>461.8</td>\n",
       "      <td>564.0</td>\n",
       "      <td>466.8</td>\n",
       "      <td>538.8</td>\n",
       "      <td>507.850</td>\n",
       "    </tr>\n",
       "    <tr>\n",
       "      <th>2</th>\n",
       "      <td>499.3</td>\n",
       "      <td>663.2</td>\n",
       "      <td>605.2</td>\n",
       "      <td>733.8</td>\n",
       "      <td>625.375</td>\n",
       "    </tr>\n",
       "    <tr>\n",
       "      <th>3</th>\n",
       "      <td>411.8</td>\n",
       "      <td>429.8</td>\n",
       "      <td>445.2</td>\n",
       "      <td>459.0</td>\n",
       "      <td>436.450</td>\n",
       "    </tr>\n",
       "    <tr>\n",
       "      <th>4</th>\n",
       "      <td>469.4</td>\n",
       "      <td>650.2</td>\n",
       "      <td>606.6</td>\n",
       "      <td>525.4</td>\n",
       "      <td>562.900</td>\n",
       "    </tr>\n",
       "    <tr>\n",
       "      <th>5</th>\n",
       "      <td>467.4</td>\n",
       "      <td>640.5</td>\n",
       "      <td>516.7</td>\n",
       "      <td>642.3</td>\n",
       "      <td>566.725</td>\n",
       "    </tr>\n",
       "  </tbody>\n",
       "</table>\n",
       "</div>"
      ],
      "text/plain": [
       "   MATEMÁTICA  CIÊNCIAS NATURAIS  CIÊNCIAS HUMANAS  LINGUAGEM e CÓDIGO  \\\n",
       "0       521.0              568.7             513.1               480.3   \n",
       "1       461.8              564.0             466.8               538.8   \n",
       "2       499.3              663.2             605.2               733.8   \n",
       "3       411.8              429.8             445.2               459.0   \n",
       "4       469.4              650.2             606.6               525.4   \n",
       "5       467.4              640.5             516.7               642.3   \n",
       "\n",
       "     MÉDIA  \n",
       "0  520.775  \n",
       "1  507.850  \n",
       "2  625.375  \n",
       "3  436.450  \n",
       "4  562.900  \n",
       "5  566.725  "
      ]
     },
     "execution_count": 13,
     "metadata": {},
     "output_type": "execute_result"
    }
   ],
   "source": [
    "# exam_score = pd.DataFrame({'MATEMÁTICA': [],\n",
    "#                            'CIÊNCIAS NATURAIS': [],\n",
    "#                            'CIÊNCIAS HUMANAS': [],\n",
    "#                            'LINGUAGEM e CÓDIGO': [],\n",
    "#                          'MÉDIA': []})\n",
    "arr = {'MATEMÁTICA': [], 'CIÊNCIAS NATURAIS': [], 'CIÊNCIAS HUMANAS': [], 'LINGUAGEM e CÓDIGO': [], 'MÉDIA': []}\n",
    "\n",
    "for index, rows in dt.iterrows():\n",
    "    print(index)\n",
    "    arr['MATEMÁTICA'].append(rows[0])\n",
    "    arr['CIÊNCIAS NATURAIS'].append(rows[1])\n",
    "    arr['CIÊNCIAS HUMANAS'].append(rows[2])\n",
    "    arr['LINGUAGEM e CÓDIGO'].append(rows[3])\n",
    "    arr['MÉDIA'].append(functools.reduce(operator.add, [rows[0], rows[1], rows[2], rows[3]]) / 4)\n",
    "    exam_score = pd.DataFrame(arr)\n",
    "    if (index > limit): break\n",
    "\n",
    "exam_score.head(limit)"
   ]
  },
  {
   "cell_type": "code",
   "execution_count": 14,
   "metadata": {},
   "outputs": [
    {
     "data": {
      "text/plain": [
       "<matplotlib.axes._subplots.AxesSubplot at 0x2bb5e92c0b8>"
      ]
     },
     "execution_count": 14,
     "metadata": {},
     "output_type": "execute_result"
    },
    {
     "data": {
      "image/png": "[encoded data removed]",
      "text/plain": [
       "<Figure size 432x288 with 1 Axes>"
      ]
     },
     "metadata": {
      "needs_background": "light"
     },
     "output_type": "display_data"
    }
   ],
   "source": [
    "exam_score.plot.bar()"
   ]
  },
  {
   "cell_type": "code",
   "execution_count": null,
   "metadata": {},
   "outputs": [],
   "source": []
  }
 ],
 "metadata": {
  "kernelspec": {
   "display_name": "Python 3",
   "language": "python",
   "name": "python3"
  },
  "language_info": {
   "codemirror_mode": {
    "name": "ipython",
    "version": 3
   },
   "file_extension": ".py",
   "mimetype": "text/x-python",
   "name": "python",
   "nbconvert_exporter": "python",
   "pygments_lexer": "ipython3",
   "version": "3.6.7"
  }
 },
 "nbformat": 4,
 "nbformat_minor": 2
}
