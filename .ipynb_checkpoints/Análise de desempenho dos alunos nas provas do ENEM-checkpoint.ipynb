{
 "cells": [
  {
   "cell_type": "markdown",
   "metadata": {},
   "source": [
    "# Análise de desempenho dos alunos que fizeram ENEM\n",
    "\n",
    "* Dentre as 100 maiores médias na parte objetiva do Enem 2018 será feito uma tabela e um gráfico comparando com a renda familiar mensal. (MAGNO)\n",
    "\n",
    "* Será feito uma checagem entre as 100 maiores médias do Enem 2018 separando quem tem acesso a Internet e quem não tem acesso a fim de mensurar qual influência este fato tem na nota final. (GUSTA)\n",
    "\n",
    "* Analisar a evolução das médias dos anos. (GUSTA)"
   ]
  },
  {
   "cell_type": "code",
   "execution_count": 16,
   "metadata": {},
   "outputs": [],
   "source": [
    "import pandas as pd\n",
    "import numpy as np\n",
    "import functools\n",
    "import operator\n",
    "%matplotlib inline\n",
    "low_memory=False"
   ]
  },
  {
   "cell_type": "code",
   "execution_count": 17,
   "metadata": {},
   "outputs": [],
   "source": [
    "filename = 'MICRODADOS_ENEM_2018.csv'\n",
    "limit = 160"
   ]
  },
  {
   "cell_type": "markdown",
   "metadata": {},
   "source": [
    "# Acesso a Internet\n",
    "\n",
    "Será feito uma checagem entre as 100 maiores médias do Enem 2018 separando quem tem acesso a Internet e quem não tem acesso a fim de mensurar qual influência este fato tem na nota final.\n",
    "\n",
    "Indice:\n",
    "* A -> Não tem acesso a internet\n",
    "* B -> Tem acesso a internet"
   ]
  },
  {
   "cell_type": "code",
   "execution_count": 18,
   "metadata": {},
   "outputs": [],
   "source": [
    "exam_average = pd.read_csv(filename, delimiter=';', encoding='iso-8859-1', usecols=['NU_NOTA_MT','NU_NOTA_LC','NU_NOTA_CH','NU_NOTA_CN','Q025'])\n",
    "exam_average = exam_average.dropna()"
   ]
  },
  {
   "cell_type": "code",
   "execution_count": 19,
   "metadata": {},
   "outputs": [],
   "source": [
    "exam_average['MÉDIA'] = exam_average.mean(axis=1)"
   ]
  },
  {
   "cell_type": "code",
   "execution_count": 20,
   "metadata": {},
   "outputs": [],
   "source": [
    "exam_average.rename(columns={'NU_NOTA_MT': 'MATEMÁTICA',\n",
    "                   'NU_NOTA_CN': 'CIÊNCIAS NATURAIS',\n",
    "                   'NU_NOTA_CH': 'CIÊNCIAS HUMANAS',\n",
    "                   'NU_NOTA_LC': 'LINGUAGEM e CÓDIGO',\n",
    "                   'Q025': 'ACESSO_INTERNET'}, inplace=True)"
   ]
  },
  {
   "cell_type": "code",
   "execution_count": 21,
   "metadata": {
    "scrolled": true
   },
   "outputs": [
    {
     "data": {
      "text/html": [
       "<div>\n",
       "<style scoped>\n",
       "    .dataframe tbody tr th:only-of-type {\n",
       "        vertical-align: middle;\n",
       "    }\n",
       "\n",
       "    .dataframe tbody tr th {\n",
       "        vertical-align: top;\n",
       "    }\n",
       "\n",
       "    .dataframe thead th {\n",
       "        text-align: right;\n",
       "    }\n",
       "</style>\n",
       "<table border=\"1\" class=\"dataframe\">\n",
       "  <thead>\n",
       "    <tr style=\"text-align: right;\">\n",
       "      <th></th>\n",
       "      <th>CIÊNCIAS NATURAIS</th>\n",
       "      <th>CIÊNCIAS HUMANAS</th>\n",
       "      <th>LINGUAGEM e CÓDIGO</th>\n",
       "      <th>MATEMÁTICA</th>\n",
       "      <th>ACESSO_INTERNET</th>\n",
       "      <th>MÉDIA</th>\n",
       "    </tr>\n",
       "  </thead>\n",
       "  <tbody>\n",
       "    <tr>\n",
       "      <th>5365820</th>\n",
       "      <td>809.1</td>\n",
       "      <td>850.4</td>\n",
       "      <td>779.7</td>\n",
       "      <td>955.9</td>\n",
       "      <td>B</td>\n",
       "      <td>848.775</td>\n",
       "    </tr>\n",
       "    <tr>\n",
       "      <th>1231303</th>\n",
       "      <td>869.6</td>\n",
       "      <td>796.2</td>\n",
       "      <td>692.5</td>\n",
       "      <td>994.4</td>\n",
       "      <td>B</td>\n",
       "      <td>838.175</td>\n",
       "    </tr>\n",
       "    <tr>\n",
       "      <th>2410529</th>\n",
       "      <td>831.4</td>\n",
       "      <td>850.4</td>\n",
       "      <td>725.9</td>\n",
       "      <td>943.2</td>\n",
       "      <td>B</td>\n",
       "      <td>837.725</td>\n",
       "    </tr>\n",
       "    <tr>\n",
       "      <th>414829</th>\n",
       "      <td>855.2</td>\n",
       "      <td>776.8</td>\n",
       "      <td>715.5</td>\n",
       "      <td>990.7</td>\n",
       "      <td>B</td>\n",
       "      <td>834.550</td>\n",
       "    </tr>\n",
       "    <tr>\n",
       "      <th>3204960</th>\n",
       "      <td>839.1</td>\n",
       "      <td>825.8</td>\n",
       "      <td>705.4</td>\n",
       "      <td>964.8</td>\n",
       "      <td>B</td>\n",
       "      <td>833.775</td>\n",
       "    </tr>\n",
       "    <tr>\n",
       "      <th>...</th>\n",
       "      <td>...</td>\n",
       "      <td>...</td>\n",
       "      <td>...</td>\n",
       "      <td>...</td>\n",
       "      <td>...</td>\n",
       "      <td>...</td>\n",
       "    </tr>\n",
       "    <tr>\n",
       "      <th>2716594</th>\n",
       "      <td>801.4</td>\n",
       "      <td>754.6</td>\n",
       "      <td>682.2</td>\n",
       "      <td>983.9</td>\n",
       "      <td>B</td>\n",
       "      <td>805.525</td>\n",
       "    </tr>\n",
       "    <tr>\n",
       "      <th>3574858</th>\n",
       "      <td>784.4</td>\n",
       "      <td>765.6</td>\n",
       "      <td>697.4</td>\n",
       "      <td>974.2</td>\n",
       "      <td>B</td>\n",
       "      <td>805.400</td>\n",
       "    </tr>\n",
       "    <tr>\n",
       "      <th>1014405</th>\n",
       "      <td>830.7</td>\n",
       "      <td>800.5</td>\n",
       "      <td>714.8</td>\n",
       "      <td>875.3</td>\n",
       "      <td>B</td>\n",
       "      <td>805.325</td>\n",
       "    </tr>\n",
       "    <tr>\n",
       "      <th>165773</th>\n",
       "      <td>774.1</td>\n",
       "      <td>825.8</td>\n",
       "      <td>754.3</td>\n",
       "      <td>866.8</td>\n",
       "      <td>A</td>\n",
       "      <td>805.250</td>\n",
       "    </tr>\n",
       "    <tr>\n",
       "      <th>865378</th>\n",
       "      <td>788.9</td>\n",
       "      <td>747.7</td>\n",
       "      <td>701.7</td>\n",
       "      <td>982.4</td>\n",
       "      <td>B</td>\n",
       "      <td>805.175</td>\n",
       "    </tr>\n",
       "  </tbody>\n",
       "</table>\n",
       "<p>100 rows × 6 columns</p>\n",
       "</div>"
      ],
      "text/plain": [
       "         CIÊNCIAS NATURAIS  CIÊNCIAS HUMANAS  LINGUAGEM e CÓDIGO  MATEMÁTICA  \\\n",
       "5365820              809.1             850.4               779.7       955.9   \n",
       "1231303              869.6             796.2               692.5       994.4   \n",
       "2410529              831.4             850.4               725.9       943.2   \n",
       "414829               855.2             776.8               715.5       990.7   \n",
       "3204960              839.1             825.8               705.4       964.8   \n",
       "...                    ...               ...                 ...         ...   \n",
       "2716594              801.4             754.6               682.2       983.9   \n",
       "3574858              784.4             765.6               697.4       974.2   \n",
       "1014405              830.7             800.5               714.8       875.3   \n",
       "165773               774.1             825.8               754.3       866.8   \n",
       "865378               788.9             747.7               701.7       982.4   \n",
       "\n",
       "        ACESSO_INTERNET    MÉDIA  \n",
       "5365820               B  848.775  \n",
       "1231303               B  838.175  \n",
       "2410529               B  837.725  \n",
       "414829                B  834.550  \n",
       "3204960               B  833.775  \n",
       "...                 ...      ...  \n",
       "2716594               B  805.525  \n",
       "3574858               B  805.400  \n",
       "1014405               B  805.325  \n",
       "165773                A  805.250  \n",
       "865378                B  805.175  \n",
       "\n",
       "[100 rows x 6 columns]"
      ]
     },
     "execution_count": 21,
     "metadata": {},
     "output_type": "execute_result"
    }
   ],
   "source": [
    "exam_average.sort_values(by='MÉDIA', ascending=False).iloc[0:100]"
   ]
  },
  {
   "cell_type": "code",
   "execution_count": 22,
   "metadata": {},
   "outputs": [],
   "source": [
    "access_amount = pd.DataFrame({\n",
    "    'access': [len(exam_average.query(\"ACESSO_INTERNET == 'A'\").sort_values(by='MÉDIA', ascending=False)), len(exam_average.query(\"ACESSO_INTERNET == 'B'\").sort_values(by='MÉDIA', ascending=False))]},\n",
    "    index=['Não tem acesso a internet', 'Tem acesso a internet'])"
   ]
  },
  {
   "cell_type": "code",
   "execution_count": 23,
   "metadata": {
    "scrolled": true
   },
   "outputs": [
    {
     "data": {
      "text/plain": [
       "array([<matplotlib.axes._subplots.AxesSubplot object at 0x0000022A8435FBA8>],\n",
       "      dtype=object)"
      ]
     },
     "execution_count": 23,
     "metadata": {},
     "output_type": "execute_result"
    },
    {
     "data": {
      "image/png": "[encoded data removed]",
      "text/plain": [
       "<Figure size 432x288 with 1 Axes>"
      ]
     },
     "metadata": {},
     "output_type": "display_data"
    }
   ],
   "source": [
    "access_amount.plot.pie(subplots=True)"
   ]
  },
  {
   "cell_type": "markdown",
   "metadata": {},
   "source": [
    "### Métrica da média geral das pessoas que possuem acesso a Internet e que não possuem acesso"
   ]
  },
  {
   "cell_type": "code",
   "execution_count": 9,
   "metadata": {},
   "outputs": [
    {
     "data": {
      "text/plain": [
       "'Possui Internet: 2949460 | Não possui Internet: 944283'"
      ]
     },
     "execution_count": 9,
     "metadata": {},
     "output_type": "execute_result"
    }
   ],
   "source": [
    "'Possui Internet: ' + str(len(exam_score_chart.query(\"ACESSO_INTERNET == 'Sim'\"))) + ' | ' + 'Não possui Internet: ' + str(len(exam_score_chart.query(\"ACESSO_INTERNET == 'Não'\")))"
   ]
  },
  {
   "cell_type": "code",
   "execution_count": 35,
   "metadata": {},
   "outputs": [
    {
     "data": {
      "text/plain": [
       "'Média das pessoas que NÃO tem acesso a Internet: 498.88'"
      ]
     },
     "execution_count": 35,
     "metadata": {},
     "output_type": "execute_result"
    }
   ],
   "source": [
    "\"Média das pessoas que NÃO tem acesso a Internet: {:.2f}\".format(exam_average.query(\"ACESSO_INTERNET == 'A'\")['MÉDIA'].mean())"
   ]
  },
  {
   "cell_type": "code",
   "execution_count": 36,
   "metadata": {},
   "outputs": [
    {
     "data": {
      "text/plain": [
       "'Média das pessoas que TEM acesso a Internet: 542.79'"
      ]
     },
     "execution_count": 36,
     "metadata": {},
     "output_type": "execute_result"
    }
   ],
   "source": [
    "\"Média das pessoas que TEM acesso a Internet: {:.2f}\".format(exam_average.query(\"ACESSO_INTERNET == 'B'\")['MÉDIA'].mean())"
   ]
  },
  {
   "cell_type": "code",
   "execution_count": null,
   "metadata": {},
   "outputs": [],
   "source": []
  }
 ],
 "metadata": {
  "kernelspec": {
   "display_name": "Python 3",
   "language": "python",
   "name": "python3"
  },
  "language_info": {
   "codemirror_mode": {
    "name": "ipython",
    "version": 3
   },
   "file_extension": ".py",
   "mimetype": "text/x-python",
   "name": "python",
   "nbconvert_exporter": "python",
   "pygments_lexer": "ipython3",
   "version": "3.6.7"
  }
 },
 "nbformat": 4,
 "nbformat_minor": 2
}
