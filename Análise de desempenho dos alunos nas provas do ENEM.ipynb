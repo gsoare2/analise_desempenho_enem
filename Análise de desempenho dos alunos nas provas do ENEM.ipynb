{
 "cells": [
  {
   "cell_type": "markdown",
   "metadata": {},
   "source": [
    "# Análise de desempenho dos alunos que fizeram ENEM\n",
    "\n",
    "* Com base nas médias dos alunos na parte objetiva do Enem 2018 serão criados uma tabela e um gráfico para analisar o desempenho dos alunos por renda familiar mensal.\n",
    "\n",
    "* Será feita uma verificação com base nas 100 maiores médias na parte objetiva do Enem 2018 separando quem tem acesso a Internet e quem não tem a fim de checar se este fato pode ter alguma influência na nota final.\n",
    "\n",
    "--------------------------------------------------------------\n",
    "\n",
    "* Repositório: https://github.com/gsoare2/analise_desempenho_enem\n",
    "* Dicionário de dados: https://www.dropbox.com/sh/t3qy4juq7sc39jp/AADuFdVRKzurn_RzZdyyTqYla/Dicion%C3%A1rio_Microdados_Enem_2017.xlsx?dl=0"
   ]
  },
  {
   "cell_type": "code",
   "execution_count": 1,
   "metadata": {},
   "outputs": [],
   "source": [
    "import pandas as pd\n",
    "import numpy as np\n",
    "import functools\n",
    "import operator\n",
    "%matplotlib inline\n",
    "low_memory=False"
   ]
  },
  {
   "cell_type": "code",
   "execution_count": 2,
   "metadata": {},
   "outputs": [],
   "source": [
    "filename = 'MICRODADOS_ENEM_2018.csv'"
   ]
  },
  {
   "cell_type": "code",
   "execution_count": 3,
   "metadata": {},
   "outputs": [],
   "source": [
    "exam_average = pd.read_csv(filename, delimiter=';', encoding='iso-8859-1',\n",
    "                            usecols=['NU_NOTA_MT','NU_NOTA_LC','NU_NOTA_CH','NU_NOTA_CN','Q025','Q006'])"
   ]
  },
  {
   "cell_type": "code",
   "execution_count": 4,
   "metadata": {},
   "outputs": [],
   "source": [
    "exam_average = exam_average.dropna()"
   ]
  },
  {
   "cell_type": "code",
   "execution_count": 5,
   "metadata": {},
   "outputs": [],
   "source": [
    "exam_average['MÉDIA'] = exam_average.mean(axis=1)"
   ]
  },
  {
   "cell_type": "code",
   "execution_count": 6,
   "metadata": {},
   "outputs": [],
   "source": [
    "exam_average.rename(columns={'NU_NOTA_MT': 'MATEMÁTICA',\n",
    "                   'NU_NOTA_CN': 'CIÊNCIAS NATURAIS',\n",
    "                   'NU_NOTA_CH': 'CIÊNCIAS HUMANAS',\n",
    "                   'NU_NOTA_LC': 'LINGUAGEM e CÓDIGO',\n",
    "                   'Q025': 'ACESSO_INTERNET',\n",
    "                   'Q006': 'RENDA MENSAL'}, inplace=True)"
   ]
  },
  {
   "cell_type": "code",
   "execution_count": 7,
   "metadata": {
    "scrolled": true
   },
   "outputs": [
    {
     "data": {
      "text/html": [
       "<div>\n",
       "<style scoped>\n",
       "    .dataframe tbody tr th:only-of-type {\n",
       "        vertical-align: middle;\n",
       "    }\n",
       "\n",
       "    .dataframe tbody tr th {\n",
       "        vertical-align: top;\n",
       "    }\n",
       "\n",
       "    .dataframe thead th {\n",
       "        text-align: right;\n",
       "    }\n",
       "</style>\n",
       "<table border=\"1\" class=\"dataframe\">\n",
       "  <thead>\n",
       "    <tr style=\"text-align: right;\">\n",
       "      <th></th>\n",
       "      <th>CIÊNCIAS NATURAIS</th>\n",
       "      <th>CIÊNCIAS HUMANAS</th>\n",
       "      <th>LINGUAGEM e CÓDIGO</th>\n",
       "      <th>MATEMÁTICA</th>\n",
       "      <th>RENDA MENSAL</th>\n",
       "      <th>ACESSO_INTERNET</th>\n",
       "      <th>MÉDIA</th>\n",
       "    </tr>\n",
       "  </thead>\n",
       "  <tbody>\n",
       "    <tr>\n",
       "      <th>5365820</th>\n",
       "      <td>809.1</td>\n",
       "      <td>850.4</td>\n",
       "      <td>779.7</td>\n",
       "      <td>955.9</td>\n",
       "      <td>C</td>\n",
       "      <td>B</td>\n",
       "      <td>848.775</td>\n",
       "    </tr>\n",
       "    <tr>\n",
       "      <th>1231303</th>\n",
       "      <td>869.6</td>\n",
       "      <td>796.2</td>\n",
       "      <td>692.5</td>\n",
       "      <td>994.4</td>\n",
       "      <td>M</td>\n",
       "      <td>B</td>\n",
       "      <td>838.175</td>\n",
       "    </tr>\n",
       "    <tr>\n",
       "      <th>2410529</th>\n",
       "      <td>831.4</td>\n",
       "      <td>850.4</td>\n",
       "      <td>725.9</td>\n",
       "      <td>943.2</td>\n",
       "      <td>H</td>\n",
       "      <td>B</td>\n",
       "      <td>837.725</td>\n",
       "    </tr>\n",
       "    <tr>\n",
       "      <th>414829</th>\n",
       "      <td>855.2</td>\n",
       "      <td>776.8</td>\n",
       "      <td>715.5</td>\n",
       "      <td>990.7</td>\n",
       "      <td>P</td>\n",
       "      <td>B</td>\n",
       "      <td>834.550</td>\n",
       "    </tr>\n",
       "    <tr>\n",
       "      <th>3204960</th>\n",
       "      <td>839.1</td>\n",
       "      <td>825.8</td>\n",
       "      <td>705.4</td>\n",
       "      <td>964.8</td>\n",
       "      <td>Q</td>\n",
       "      <td>B</td>\n",
       "      <td>833.775</td>\n",
       "    </tr>\n",
       "    <tr>\n",
       "      <th>...</th>\n",
       "      <td>...</td>\n",
       "      <td>...</td>\n",
       "      <td>...</td>\n",
       "      <td>...</td>\n",
       "      <td>...</td>\n",
       "      <td>...</td>\n",
       "      <td>...</td>\n",
       "    </tr>\n",
       "    <tr>\n",
       "      <th>2716594</th>\n",
       "      <td>801.4</td>\n",
       "      <td>754.6</td>\n",
       "      <td>682.2</td>\n",
       "      <td>983.9</td>\n",
       "      <td>O</td>\n",
       "      <td>B</td>\n",
       "      <td>805.525</td>\n",
       "    </tr>\n",
       "    <tr>\n",
       "      <th>3574858</th>\n",
       "      <td>784.4</td>\n",
       "      <td>765.6</td>\n",
       "      <td>697.4</td>\n",
       "      <td>974.2</td>\n",
       "      <td>Q</td>\n",
       "      <td>B</td>\n",
       "      <td>805.400</td>\n",
       "    </tr>\n",
       "    <tr>\n",
       "      <th>1014405</th>\n",
       "      <td>830.7</td>\n",
       "      <td>800.5</td>\n",
       "      <td>714.8</td>\n",
       "      <td>875.3</td>\n",
       "      <td>I</td>\n",
       "      <td>B</td>\n",
       "      <td>805.325</td>\n",
       "    </tr>\n",
       "    <tr>\n",
       "      <th>165773</th>\n",
       "      <td>774.1</td>\n",
       "      <td>825.8</td>\n",
       "      <td>754.3</td>\n",
       "      <td>866.8</td>\n",
       "      <td>H</td>\n",
       "      <td>A</td>\n",
       "      <td>805.250</td>\n",
       "    </tr>\n",
       "    <tr>\n",
       "      <th>865378</th>\n",
       "      <td>788.9</td>\n",
       "      <td>747.7</td>\n",
       "      <td>701.7</td>\n",
       "      <td>982.4</td>\n",
       "      <td>G</td>\n",
       "      <td>B</td>\n",
       "      <td>805.175</td>\n",
       "    </tr>\n",
       "  </tbody>\n",
       "</table>\n",
       "<p>100 rows × 7 columns</p>\n",
       "</div>"
      ],
      "text/plain": [
       "         CIÊNCIAS NATURAIS  CIÊNCIAS HUMANAS  LINGUAGEM e CÓDIGO  MATEMÁTICA  \\\n",
       "5365820              809.1             850.4               779.7       955.9   \n",
       "1231303              869.6             796.2               692.5       994.4   \n",
       "2410529              831.4             850.4               725.9       943.2   \n",
       "414829               855.2             776.8               715.5       990.7   \n",
       "3204960              839.1             825.8               705.4       964.8   \n",
       "...                    ...               ...                 ...         ...   \n",
       "2716594              801.4             754.6               682.2       983.9   \n",
       "3574858              784.4             765.6               697.4       974.2   \n",
       "1014405              830.7             800.5               714.8       875.3   \n",
       "165773               774.1             825.8               754.3       866.8   \n",
       "865378               788.9             747.7               701.7       982.4   \n",
       "\n",
       "        RENDA MENSAL ACESSO_INTERNET    MÉDIA  \n",
       "5365820            C               B  848.775  \n",
       "1231303            M               B  838.175  \n",
       "2410529            H               B  837.725  \n",
       "414829             P               B  834.550  \n",
       "3204960            Q               B  833.775  \n",
       "...              ...             ...      ...  \n",
       "2716594            O               B  805.525  \n",
       "3574858            Q               B  805.400  \n",
       "1014405            I               B  805.325  \n",
       "165773             H               A  805.250  \n",
       "865378             G               B  805.175  \n",
       "\n",
       "[100 rows x 7 columns]"
      ]
     },
     "execution_count": 7,
     "metadata": {},
     "output_type": "execute_result"
    }
   ],
   "source": [
    "exam_average.sort_values(by='MÉDIA', ascending=False).iloc[0:100]"
   ]
  },
  {
   "cell_type": "markdown",
   "metadata": {},
   "source": [
    "## Renda Familiar\n",
    "\n",
    "Tendo como base as médias da parte objetiva do Enem 2018, foi criada uma tabela relacionando as informações da média geral por nível de renda familiar mensal e quantos alunos se encontram em cada um destes níveis. Para melhor comparação, estas informações são exibidas em dois gráficos, um traçando a curva entre a renda e a média geral e o outro representando a relação da quantidade de alunos por nível de renda.\n",
    "\n",
    "Legenda:\n",
    "\n",
    " * A ->    Nenhuma renda.\n",
    " * B ->\t   Até 954,00 reais.\n",
    " * C ->    De 954,01 até 1.431,00 reais.\n",
    " * D ->\t   De 1.431,01 até 1.908,00 reais.\n",
    " * E ->\t   De 1.908,01 até 2.385,00 reais.\n",
    " * F ->\t   De 2.385,01 até 2.862,00 reais.\n",
    " * G ->    De 2.862,01 até 3.816,00 reais.\n",
    " * H ->\t   De 3.816,01 até 4.770,00 reais.\n",
    " * I  ->   De 4.770,01 até 5.724,00 reais.\n",
    " * J ->\t   De 5.724,01 até 6.678,00 reais.\n",
    " * K ->\t   De 6.678,01 até 7.632,00 reais.\n",
    " * L ->\t   De 7.632,01 até 8.586,00 reais.\n",
    " * M ->\t   De 8.586,01 até 9.540,00 reais.\n",
    " * N ->\t   De 9.540,01 até 11.448,00 reais.\n",
    " * O ->    De 11.448,01 até 14.310,00 reais.\n",
    " * P ->\t   De 14.310,01 até 19.080,00 reais.\n",
    " * Q ->\t   Mais de 19.080,00 reais."
   ]
  },
  {
   "cell_type": "code",
   "execution_count": 8,
   "metadata": {},
   "outputs": [
    {
     "data": {
      "text/html": [
       "<div>\n",
       "<style scoped>\n",
       "    .dataframe tbody tr th:only-of-type {\n",
       "        vertical-align: middle;\n",
       "    }\n",
       "\n",
       "    .dataframe tbody tr th {\n",
       "        vertical-align: top;\n",
       "    }\n",
       "\n",
       "    .dataframe thead tr th {\n",
       "        text-align: left;\n",
       "    }\n",
       "\n",
       "    .dataframe thead tr:last-of-type th {\n",
       "        text-align: right;\n",
       "    }\n",
       "</style>\n",
       "<table border=\"1\" class=\"dataframe\">\n",
       "  <thead>\n",
       "    <tr>\n",
       "      <th></th>\n",
       "      <th colspan=\"2\" halign=\"left\">MÉDIA</th>\n",
       "    </tr>\n",
       "    <tr>\n",
       "      <th></th>\n",
       "      <th>count</th>\n",
       "      <th>mean</th>\n",
       "    </tr>\n",
       "    <tr>\n",
       "      <th>RENDA MENSAL</th>\n",
       "      <th></th>\n",
       "      <th></th>\n",
       "    </tr>\n",
       "  </thead>\n",
       "  <tbody>\n",
       "    <tr>\n",
       "      <th>A</th>\n",
       "      <td>153283</td>\n",
       "      <td>493.268844</td>\n",
       "    </tr>\n",
       "    <tr>\n",
       "      <th>B</th>\n",
       "      <td>891153</td>\n",
       "      <td>498.026032</td>\n",
       "    </tr>\n",
       "    <tr>\n",
       "      <th>C</th>\n",
       "      <td>979903</td>\n",
       "      <td>515.448829</td>\n",
       "    </tr>\n",
       "    <tr>\n",
       "      <th>D</th>\n",
       "      <td>364313</td>\n",
       "      <td>531.202684</td>\n",
       "    </tr>\n",
       "    <tr>\n",
       "      <th>E</th>\n",
       "      <td>360081</td>\n",
       "      <td>536.575649</td>\n",
       "    </tr>\n",
       "    <tr>\n",
       "      <th>F</th>\n",
       "      <td>175316</td>\n",
       "      <td>550.248588</td>\n",
       "    </tr>\n",
       "    <tr>\n",
       "      <th>G</th>\n",
       "      <td>276106</td>\n",
       "      <td>556.358702</td>\n",
       "    </tr>\n",
       "    <tr>\n",
       "      <th>H</th>\n",
       "      <td>167665</td>\n",
       "      <td>569.867083</td>\n",
       "    </tr>\n",
       "    <tr>\n",
       "      <th>I</th>\n",
       "      <td>138437</td>\n",
       "      <td>578.644383</td>\n",
       "    </tr>\n",
       "    <tr>\n",
       "      <th>J</th>\n",
       "      <td>82322</td>\n",
       "      <td>588.126286</td>\n",
       "    </tr>\n",
       "    <tr>\n",
       "      <th>K</th>\n",
       "      <td>52620</td>\n",
       "      <td>593.667479</td>\n",
       "    </tr>\n",
       "    <tr>\n",
       "      <th>L</th>\n",
       "      <td>42056</td>\n",
       "      <td>601.064145</td>\n",
       "    </tr>\n",
       "    <tr>\n",
       "      <th>M</th>\n",
       "      <td>37279</td>\n",
       "      <td>603.952882</td>\n",
       "    </tr>\n",
       "    <tr>\n",
       "      <th>N</th>\n",
       "      <td>53790</td>\n",
       "      <td>611.082144</td>\n",
       "    </tr>\n",
       "    <tr>\n",
       "      <th>O</th>\n",
       "      <td>39012</td>\n",
       "      <td>618.057835</td>\n",
       "    </tr>\n",
       "    <tr>\n",
       "      <th>P</th>\n",
       "      <td>35383</td>\n",
       "      <td>624.625639</td>\n",
       "    </tr>\n",
       "    <tr>\n",
       "      <th>Q</th>\n",
       "      <td>45024</td>\n",
       "      <td>633.373682</td>\n",
       "    </tr>\n",
       "  </tbody>\n",
       "</table>\n",
       "</div>"
      ],
      "text/plain": [
       "               MÉDIA            \n",
       "               count        mean\n",
       "RENDA MENSAL                    \n",
       "A             153283  493.268844\n",
       "B             891153  498.026032\n",
       "C             979903  515.448829\n",
       "D             364313  531.202684\n",
       "E             360081  536.575649\n",
       "F             175316  550.248588\n",
       "G             276106  556.358702\n",
       "H             167665  569.867083\n",
       "I             138437  578.644383\n",
       "J              82322  588.126286\n",
       "K              52620  593.667479\n",
       "L              42056  601.064145\n",
       "M              37279  603.952882\n",
       "N              53790  611.082144\n",
       "O              39012  618.057835\n",
       "P              35383  624.625639\n",
       "Q              45024  633.373682"
      ]
     },
     "execution_count": 8,
     "metadata": {},
     "output_type": "execute_result"
    }
   ],
   "source": [
    "mediaPorRenda = exam_average.pivot_table(values=['MÉDIA'], index=['RENDA MENSAL'], aggfunc={'MÉDIA': [np.mean,'count']})\n",
    "mediaPorRenda"
   ]
  },
  {
   "cell_type": "code",
   "execution_count": 9,
   "metadata": {},
   "outputs": [
    {
     "data": {
      "text/plain": [
       "array([<matplotlib.axes._subplots.AxesSubplot object at 0x0D8D1610>,\n",
       "       <matplotlib.axes._subplots.AxesSubplot object at 0x0D93BFB0>],\n",
       "      dtype=object)"
      ]
     },
     "execution_count": 9,
     "metadata": {},
     "output_type": "execute_result"
    },
    {
     "data": {
      "image/png": "[encoded data removed]",
      "text/plain": [
       "<Figure size 432x288 with 2 Axes>"
      ]
     },
     "metadata": {
      "needs_background": "light"
     },
     "output_type": "display_data"
    }
   ],
   "source": [
    "mediaPorRenda.plot.line(subplots=True)"
   ]
  },
  {
   "cell_type": "markdown",
   "metadata": {},
   "source": [
    "## Acesso a Internet\n",
    "\n",
    "Foi feita uma checagem entre as 100 maiores médias do Enem 2018 separando quem tem acesso a Internet e quem não tem a fim de mensurar qual influência este fato tem na nota final.\n",
    "\n",
    "Indice:\n",
    "* A -> Não tem acesso a internet\n",
    "* B -> Tem acesso a internet"
   ]
  },
  {
   "cell_type": "code",
   "execution_count": 10,
   "metadata": {},
   "outputs": [],
   "source": [
    "access_amount = pd.DataFrame({\n",
    "    'access': [len(exam_average.query(\"ACESSO_INTERNET == 'A'\").sort_values(by='MÉDIA', ascending=False)), len(exam_average.query(\"ACESSO_INTERNET == 'B'\").sort_values(by='MÉDIA', ascending=False))]},\n",
    "    index=['Não tem acesso a internet', 'Tem acesso a internet'])"
   ]
  },
  {
   "cell_type": "code",
   "execution_count": 11,
   "metadata": {
    "scrolled": true
   },
   "outputs": [
    {
     "data": {
      "text/plain": [
       "array([<matplotlib.axes._subplots.AxesSubplot object at 0x001F9A90>],\n",
       "      dtype=object)"
      ]
     },
     "execution_count": 11,
     "metadata": {},
     "output_type": "execute_result"
    },
    {
     "data": {
      "image/png": "[encoded data removed]",
      "text/plain": [
       "<Figure size 432x288 with 1 Axes>"
      ]
     },
     "metadata": {},
     "output_type": "display_data"
    }
   ],
   "source": [
    "access_amount.plot.pie(subplots=True)"
   ]
  },
  {
   "cell_type": "markdown",
   "metadata": {},
   "source": [
    "### Métrica da média geral das pessoas que possuem acesso a Internet e que não possuem acesso"
   ]
  },
  {
   "cell_type": "code",
   "execution_count": 17,
   "metadata": {},
   "outputs": [
    {
     "data": {
      "text/plain": [
       "'Possui Internet: 944283 | Não possui Internet: 2949460'"
      ]
     },
     "execution_count": 17,
     "metadata": {},
     "output_type": "execute_result"
    }
   ],
   "source": [
    "'Possui Internet: ' + str(len(exam_average.query(\"ACESSO_INTERNET == 'A'\"))) + ' | ' + 'Não possui Internet: ' + str(len(exam_average.query(\"ACESSO_INTERNET == 'B'\")))"
   ]
  },
  {
   "cell_type": "code",
   "execution_count": 14,
   "metadata": {},
   "outputs": [
    {
     "data": {
      "text/plain": [
       "'Média das pessoas que NÃO tem acesso a Internet: 498.88'"
      ]
     },
     "execution_count": 14,
     "metadata": {},
     "output_type": "execute_result"
    }
   ],
   "source": [
    "\"Média das pessoas que NÃO tem acesso a Internet: {:.2f}\".format(exam_average.query(\"ACESSO_INTERNET == 'A'\")['MÉDIA'].mean())"
   ]
  },
  {
   "cell_type": "code",
   "execution_count": 15,
   "metadata": {},
   "outputs": [
    {
     "data": {
      "text/plain": [
       "'Média das pessoas que TEM acesso a Internet: 542.79'"
      ]
     },
     "execution_count": 15,
     "metadata": {},
     "output_type": "execute_result"
    }
   ],
   "source": [
    "\"Média das pessoas que TEM acesso a Internet: {:.2f}\".format(exam_average.query(\"ACESSO_INTERNET == 'B'\")['MÉDIA'].mean())"
   ]
  },
  {
   "cell_type": "code",
   "execution_count": null,
   "metadata": {},
   "outputs": [],
   "source": []
  }
 ],
 "metadata": {
  "kernelspec": {
   "display_name": "Python 3",
   "language": "python",
   "name": "python3"
  },
  "language_info": {
   "codemirror_mode": {
    "name": "ipython",
    "version": 3
   },
   "file_extension": ".py",
   "mimetype": "text/x-python",
   "name": "python",
   "nbconvert_exporter": "python",
   "pygments_lexer": "ipython3",
   "version": "3.6.1"
  }
 },
 "nbformat": 4,
 "nbformat_minor": 2
}
